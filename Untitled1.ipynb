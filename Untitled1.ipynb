{
 "cells": [
  {
   "cell_type": "code",
   "execution_count": 3,
   "id": "0c377a69",
   "metadata": {},
   "outputs": [
    {
     "name": "stdout",
     "output_type": "stream",
     "text": [
      "List of attributes\n",
      "['Sky', 'Temp', 'Humidity', 'Wind', 'Water', 'Forecast']\n",
      "Initial specific hypothesis\n",
      " ['0', '0', '0', '0', '0', '0']\n",
      "Initial General hypothesis\n",
      " [['?', '?', '?', '?', '?', '?'], ['?', '?', '?', '?', '?', '?'], ['?', '?', '?', '?', '?', '?'], ['?', '?', '?', '?', '?', '?'], ['?', '?', '?', '?', '?', '?'], ['?', '?', '?', '?', '?', '?']]\n",
      "Step 1 of Candidate Elimination Algorithm\n",
      "Instance [1 'Sunny' 'Warm' 'Normal' 'Strong' 'Warm' 'Same']\n",
      "S 1 = [1 'Sunny' 'Warm' 'Normal' 'Strong' 'Warm' 'Same']\n",
      "G 1 = [['?', '?', '?', '?', '?', '?'], ['?', '?', '?', '?', '?', '?'], ['?', '?', '?', '?', '?', '?'], ['?', '?', '?', '?', '?', '?'], ['?', '?', '?', '?', '?', '?'], ['?', '?', '?', '?', '?', '?']]\n",
      "Step 2 of Candidate Elimination Algorithm\n",
      "Instance [2 'Sunny' 'Warm' 'High' 'Strong' 'Warm' 'Same']\n",
      "S 2 = [1 'Sunny' 'Warm' 'Normal' 'Strong' 'Warm' 'Same']\n",
      "G 2 = [['?', '?', '?', '?', '?', '?'], ['?', '?', '?', '?', '?', '?'], ['?', '?', '?', '?', '?', '?'], ['?', '?', '?', '?', '?', '?'], ['?', '?', '?', '?', '?', '?'], ['?', '?', '?', '?', '?', '?']]\n",
      "Step 3 of Candidate Elimination Algorithm\n",
      "Instance [3 'Rainy' 'Cold' 'High' 'Strong' 'Warm' 'Change']\n",
      "S 3 = [1 'Sunny' 'Warm' 'Normal' 'Strong' 'Warm' 'Same']\n",
      "G 3 = [['?', '?', '?', '?', '?', '?'], ['?', '?', '?', '?', '?', '?'], ['?', '?', '?', '?', '?', '?'], ['?', '?', '?', '?', '?', '?'], ['?', '?', '?', '?', '?', '?'], ['?', '?', '?', '?', '?', '?']]\n",
      "Step 4 of Candidate Elimination Algorithm\n",
      "Instance [4 'Sunny' 'Warm' 'High' 'Strong' 'Cool' 'Change']\n",
      "S 4 = [1 'Sunny' 'Warm' 'Normal' 'Strong' 'Warm' 'Same']\n",
      "G 4 = [['?', '?', '?', '?', '?', '?'], ['?', '?', '?', '?', '?', '?'], ['?', '?', '?', '?', '?', '?'], ['?', '?', '?', '?', '?', '?'], ['?', '?', '?', '?', '?', '?'], ['?', '?', '?', '?', '?', '?']]\n",
      "Final Specific hypothesis\n",
      "[1 'Sunny' 'Warm' 'Normal' 'Strong' 'Warm' 'Same']\n",
      "Final General hypothesis\n",
      "[]\n"
     ]
    }
   ],
   "source": [
    "import numpy as np\n",
    "import pandas as pd\n",
    "\n",
    "data = pd.DataFrame(pd.read_csv(\"Downloads/trainingexamples.csv\"))\n",
    "\n",
    "concepts = np.array(data.iloc[:, 0:-1])\n",
    "target = np.array(data.iloc[:, -1])\n",
    "\n",
    "def learn(concepts, target):\n",
    "    print(\"List of attributes\")\n",
    "    attributes = ['Sky', 'Temp', 'Humidity', 'Wind', 'Water', 'Forecast']\n",
    "    print(attributes)\n",
    "\n",
    "    num_attributes = len(attributes)\n",
    "    specific_h = [\"0\"] * num_attributes\n",
    "    print(\"Initial specific hypothesis\\n\", specific_h)\n",
    "    general_h = [[\"?\" for _ in range(num_attributes)] for _ in range(num_attributes)]\n",
    "    print(\"Initial General hypothesis\\n\", general_h)\n",
    "\n",
    "    specific_h = concepts[0].copy()\n",
    "\n",
    "    for i, h in enumerate(concepts):\n",
    "        if target[i] == \"YES\":\n",
    "            for x in range(len(specific_h)):\n",
    "                if h[x] != specific_h[x]:\n",
    "                    specific_h[x] = general_h[x][x] = '?'\n",
    "        elif target[i] == \"NO\":\n",
    "            for x in range(len(specific_h)):\n",
    "                if h[x] != specific_h[x]:\n",
    "                    general_h[x][x] = specific_h[x]\n",
    "                else:\n",
    "                    general_h[x][x] = '?'\n",
    "\n",
    "        print(f\"Step {i + 1} of Candidate Elimination Algorithm\")\n",
    "        print(\"Instance\", h)\n",
    "        print(\"S\", i + 1, '=', specific_h)\n",
    "        print(\"G\", i + 1, '=', general_h)\n",
    "\n",
    "    indices = [i for i, val in enumerate(general_h) if val == ['?', '?', '?', '?', '?', '?']]\n",
    "\n",
    "    for i in indices:\n",
    "        general_h.remove(['?', '?', '?', '?', '?', '?'])\n",
    "\n",
    "    return specific_h, general_h\n",
    "\n",
    "s_final, g_final = learn(concepts, target)\n",
    "\n",
    "print(\"Final Specific hypothesis\", s_final, sep=\"\\n\")\n",
    "print(\"Final General hypothesis\", g_final, sep=\"\\n\")\n"
   ]
  },
  {
   "cell_type": "code",
   "execution_count": null,
   "id": "085b899e",
   "metadata": {},
   "outputs": [],
   "source": []
  }
 ],
 "metadata": {
  "kernelspec": {
   "display_name": "Python 3 (ipykernel)",
   "language": "python",
   "name": "python3"
  },
  "language_info": {
   "codemirror_mode": {
    "name": "ipython",
    "version": 3
   },
   "file_extension": ".py",
   "mimetype": "text/x-python",
   "name": "python",
   "nbconvert_exporter": "python",
   "pygments_lexer": "ipython3",
   "version": "3.11.5"
  }
 },
 "nbformat": 4,
 "nbformat_minor": 5
}
